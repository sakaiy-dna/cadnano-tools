{
 "cells": [
  {
   "cell_type": "code",
   "execution_count": null,
   "id": "2d5cd7aa-5700-4710-b469-2fc932b8e292",
   "metadata": {},
   "outputs": [],
   "source": [
    "#Set variables\n",
    "#Path to cadnano2 json file\n",
    "cadnano2_input_path = '/content/PATH_TO_FILE'\n",
    "\n",
    "#Path to output json file (optional)\n",
    "cadnano2_output_path = '/content/output.json'\n",
    "\n",
    "def periodic_copy(json_path,output_path):\n",
    "\n",
    "  #To be automatically calculated\n",
    "  #Helices number (vertical size) of one domain\n",
    "  unit_size = 22\n",
    "\n",
    "  #Max helix number (repeat number * unit_size - 1)\n",
    "  n_max = 65\n",
    "\n",
    "  #horisontal size in base position (the most right base positon) \n",
    "  m_max = 1983\n",
    "\n",
    "  import json\n",
    "  import sys\n",
    "  from collections import OrderedDict\n",
    "  with open(json_path) as json_text:\n",
    "    dic_text = json.load(json_text, object_pairs_hook=OrderedDict)\n",
    "\n",
    "  n = unit_size\n",
    "  while n <= n_max:\n",
    "      ref_h = n - unit_size\n",
    "      dic_text['vstrands'][n]['loop'] = dic_text['vstrands'][ref_h]['loop']\n",
    "      dic_text['vstrands'][n]['skip'] = dic_text['vstrands'][ref_h]['skip']\n",
    "      dic_text['vstrands'][n]['stap_colors'] = dic_text['vstrands'][ref_h]['stap_colors']\n",
    "      m = 0\n",
    "      while m <= m_max:\n",
    "          dic_text['vstrands'][n]['scaf'][m][1] = dic_text['vstrands'][ref_h]['scaf'][m][1]\n",
    "          dic_text['vstrands'][n]['scaf'][m][3] = dic_text['vstrands'][ref_h]['scaf'][m][3]\n",
    "          if dic_text['vstrands'][ref_h]['scaf'][m][0] != -1:\n",
    "              dic_text['vstrands'][n]['scaf'][m][0] = dic_text['vstrands'][ref_h]['scaf'][m][0] + unit_size\n",
    "          if dic_text['vstrands'][ref_h]['scaf'][m][2] != -1:\n",
    "              dic_text['vstrands'][n]['scaf'][m][2] = dic_text['vstrands'][ref_h]['scaf'][m][2] + unit_size\n",
    "          dic_text['vstrands'][n]['stap'][m][1] = dic_text['vstrands'][ref_h]['stap'][m][1]\n",
    "          dic_text['vstrands'][n]['stap'][m][3] = dic_text['vstrands'][ref_h]['stap'][m][3]\n",
    "          if dic_text['vstrands'][ref_h]['stap'][m][0] != -1:\n",
    "              dic_text['vstrands'][n]['stap'][m][0] = dic_text['vstrands'][ref_h]['stap'][m][0] + unit_size\n",
    "          if dic_text['vstrands'][ref_h]['stap'][m][2] != -1:\n",
    "              dic_text['vstrands'][n]['stap'][m][2] = dic_text['vstrands'][ref_h]['stap'][m][2] + unit_size\n",
    "          m = m + 1\n",
    "      n = n + 1\n",
    "\n",
    "  if len(sys.argv)==2 :\n",
    "    output = open(output_path, 'w')\n",
    "    output.write(json.dumps(dic_text))\n",
    "  else :\n",
    "    return json.dumps(dic_text)\n",
    "\n",
    "periodic_copy(cadnano2_input_path,cadnano2_output_path)"
   ]
  }
 ],
 "metadata": {
  "kernelspec": {
   "display_name": "Python 3 (ipykernel)",
   "language": "python",
   "name": "python3"
  },
  "language_info": {
   "codemirror_mode": {
    "name": "ipython",
    "version": 3
   },
   "file_extension": ".py",
   "mimetype": "text/x-python",
   "name": "python",
   "nbconvert_exporter": "python",
   "pygments_lexer": "ipython3",
   "version": "3.10.11"
  }
 },
 "nbformat": 4,
 "nbformat_minor": 5
}
